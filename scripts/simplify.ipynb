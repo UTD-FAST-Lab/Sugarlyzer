{
 "cells": [
  {
   "cell_type": "code",
   "execution_count": null,
   "metadata": {},
   "outputs": [
    {
     "data": {
      "text/html": [
       "&not;DEF<sub>STDLIB_H</sub> &and;\n",
       "DEF<sub>_STRICT_ANSI__</sub> &and;\n",
       "&not;DEF<sub>_need_malloc_and_calloc</sub> &and;\n",
       "&not;DEF<sub>_USE_EXTERN_INLINES</sub> &and;\n",
       "DEF_HAVE_TLSV1_X &or;\n",
       "&not;DEF<sub>STDLIB_H</sub> &and;\n",
       "&not;DEF<sub>_STRICT_ANSI__</sub> &and;\n",
       "&not;DEF<sub>_need_malloc_and_calloc</sub> &and;\n",
       "&not;DEF<sub>_USE_EXTERN_INLINES</sub> &and;\n",
       "DEF_HAVE_TLSV1_X"
      ],
      "text/plain": [
       "Or(And(Not(DEF__STDLIB_H),\n",
       "       DEF___STRICT_ANSI__,\n",
       "       Not(DEF___need_malloc_and_calloc),\n",
       "       Not(DEF___USE_EXTERN_INLINES),\n",
       "       DEF_HAVE_TLSV1_X),\n",
       "   And(Not(DEF__STDLIB_H),\n",
       "       Not(DEF___STRICT_ANSI__),\n",
       "       Not(DEF___need_malloc_and_calloc),\n",
       "       Not(DEF___USE_EXTERN_INLINES),\n",
       "       DEF_HAVE_TLSV1_X))"
      ]
     },
     "execution_count": 8,
     "metadata": {},
     "output_type": "execute_result"
    }
   ],
   "source": [
    "from z3.z3 import Or, And, Not, simplify, Bool\n",
    "import re\n",
    "\n",
    "expr = \"Or(Or(And(Or (And (Not(DEF__STDLIB_H) , (DEF___STRICT_ANSI__) , Not(DEF___need_malloc_and_calloc) , Not(DEF___USE_EXTERN_INLINES) , (DEF_HAVE_TLSV1_X))))),Or(And(Or (And (Not(DEF__STDLIB_H) , Not(DEF___STRICT_ANSI__) , Not(DEF___need_malloc_and_calloc) , Not(DEF___USE_EXTERN_INLINES) , (DEF_HAVE_TLSV1_X))))))\"\n",
    "regex = re.compile(\"DEF[_A-Za-z0-9]*\")\n",
    "for match in re.findall(regex, expr):\n",
    "    exec(f\"{match} = Bool('{match}')\")\n",
    "print(simplify(eval(expr)))"
   ]
  }
 ],
 "metadata": {
  "kernelspec": {
   "display_name": ".venv",
   "language": "python",
   "name": "python3"
  },
  "language_info": {
   "codemirror_mode": {
    "name": "ipython",
    "version": 3
   },
   "file_extension": ".py",
   "mimetype": "text/x-python",
   "name": "python",
   "nbconvert_exporter": "python",
   "pygments_lexer": "ipython3",
   "version": "3.12.6"
  }
 },
 "nbformat": 4,
 "nbformat_minor": 2
}
