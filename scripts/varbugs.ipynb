{
 "cells": [
  {
   "cell_type": "code",
   "id": "14c5e7a254c28c10",
   "metadata": {
    "ExecuteTime": {
     "end_time": "2025-05-30T10:06:02.347732Z",
     "start_time": "2025-05-30T10:06:02.279572Z"
    }
   },
   "source": [
    "import copy\n",
    "from typing import Dict\n",
    "from functools import reduce\n",
    "\n",
    "import matplotlib.pyplot\n",
    "from frozendict import frozendict\n",
    "import csv\n",
    "import json\n",
    "import re\n",
    "\n",
    "from matplotlib_venn import venn3\n",
    "\n",
    "family_location = \"../results/current/family/varbugs_family.json\"\n",
    "product_location = \"../results/current/product/varbugs_product.json\"\n",
    "transformation_location = \"../results/current/transformation/varbugs_transformation.json\"\n",
    "csv_location = \"../notes/classifications.csv\"\n",
    "\n",
    "# Read in results\n",
    "with open(family_location) as family_file:\n",
    "    family = json.load(family_file)\n",
    "    for f in family:\n",
    "        f['origin'] = 'family'\n",
    "with open(product_location) as product_file:\n",
    "    product = json.load(product_file)\n",
    "    for p in product:\n",
    "        p['origin'] = 'product'\n",
    "with open(transformation_location) as transformation_file:\n",
    "    transformation = json.load(transformation_file)\n",
    "    for t in transformation:\n",
    "        t['origin'] = 'transformation'\n",
    "with open(csv_location) as csv_file:\n",
    "    csv_reader = csv.DictReader(csv_file)\n",
    "    rows = list(csv_reader)\n",
    "\n",
    "all_results = family + product + transformation\n",
    "for row in rows:\n",
    "    for r in all_results:\n",
    "        if r['id'] == row['ID']:\n",
    "            r['classification'] = frozenset(row['Final Classification'].split(\"_\"))\n",
    "all_results\n",
    "\n",
    "# Quick Stats\n",
    "tp = len([a for a in all_results if 'TRUE' in a['classification']])\n",
    "tp_new = len([a for a in all_results if 'TRUE' in a['classification'] and 'NEW' in a['classification']])\n",
    "fp = len([a for a in all_results if 'FALSE' in a['classification']])\n",
    "\n",
    "# Extract bug information\n",
    "family_summaries = set()\n",
    "for f in family:\n",
    "    family_summaries.add(frozendict({\n",
    "        \"input_file\": f[\"input_file\"].split(\"/\")[-1],\n",
    "        \"type\": f[\"taxonomy_type\"],\n",
    "        \"classification\": f['classification'],\n",
    "        \"line_number\": int(re.findall(r\":(\\d+):\\d+\", f[\"err\"])[0]),\n",
    "        \"origin\": frozenset({\"family\"})\n",
    "    }))\n",
    "print(family_summaries)\n",
    "\n",
    "product_summaries = set()\n",
    "for p in product:\n",
    "    product_summaries.add(frozendict({\n",
    "        \"input_file\": p[\"input_file\"].split(\"/\")[-1],\n",
    "        \"line_number\": int(p[\"input_line\"]),\n",
    "        \"classification\": p[\"classification\"],\n",
    "        \"type\": p[\"taxonomy_type\"],\n",
    "        \"origin\": frozenset({\"product\"})\n",
    "    }))\n",
    "\n",
    "def transform_linum(linum):\n",
    "    if \"ERROR\" in linum:\n",
    "        transform_linum.counter = transform_linum.counter - 1\n",
    "        return transform_linum.counter\n",
    "    else:\n",
    "        return int(linum.split(\":\")[0])\n",
    "transform_linum.counter = 0\n",
    "\n",
    "transformation_summaries = set()\n",
    "for t in transformation:\n",
    "    transformation_summaries.add(frozendict({\n",
    "        \"input_file\": t[\"input_file\"].split(\"/\")[-1],\n",
    "        \"line_number\": transform_linum(t[\"original_line\"]),\n",
    "        \"classification\": t[\"classification\"],\n",
    "        \"type\": t[\"taxonomy_type\"],\n",
    "        \"origin\": frozenset({\"transformation\"})\n",
    "    }))\n",
    "\n",
    "unique_summaries = set()\n",
    "all_summaries = transformation_summaries.union(product_summaries).union(family_summaries)\n",
    "for a in all_summaries:\n",
    "    filter = {u for u in unique_summaries if u.get(\"input_file\") == a.get(\"input_file\") and u.get(\"classification\") == a.get(\"classification\") and u.get(\"line_number\") == a.get(\"line_number\") and u.get(\"type\") == a.get(\"type\")}\n",
    "    if len(filter) == 0:\n",
    "        unique_summaries.add(a)\n",
    "    if len(filter) == 1:\n",
    "        print(\"found a match\")\n",
    "        old = filter.pop()\n",
    "        unique_summaries.remove(old)\n",
    "        old.set(\"origin\", old.get(\"origin\").union(a.get(\"origin\")))\n",
    "        unique_summaries.add(old)\n",
    "    if len(filter) == 2:\n",
    "        raise RuntimeError(\"Too many matches\")\n",
    "\n",
    "def copy_without_origin(d: Dict) -> Dict:\n",
    "  return frozendict({x: d[x] for x in d if x not in [\"origin\", \"classification\"]})\n",
    "\n",
    "trues = [u for u in unique_summaries if \"TRUE\" in u.get(\"classification\")]\n",
    "venn = venn3((\n",
    "    product_set := {copy_without_origin(u) for u in trues if \"product\" in u.get(\"origin\")},\n",
    "    transformation_set := {copy_without_origin(u) for u in trues if \"transformation\" in u.get(\"origin\")},\n",
    "    family_set := {copy_without_origin(u) for u in trues if \"family\" in u.get(\"origin\")}\n",
    "),\n",
    "set_labels=(\"Product\", \"Transformation\", \"Family\"))\n",
    "matplotlib.pyplot.text(1, 0, \"34\")\n",
    "matplotlib.pyplot.savefig(\"/Users/austin/git/sugarlyzer-paper/resources/vbdb_tps.png\", dpi=300, bbox_inches='tight')"
   ],
   "outputs": [
    {
     "name": "stdout",
     "output_type": "stream",
     "text": [
      "{frozendict.frozendict({'input_file': 'b62bd7b261b.c', 'type': 'dead_store', 'classification': frozenset({'UNDER', 'TRUE', 'NEW'}), 'line_number': 16, 'origin': frozenset({'family'})}), frozendict.frozendict({'input_file': 'bc0ffc0e971.c', 'type': 'uninitialized_value', 'classification': frozenset({'FALSE'}), 'line_number': 29, 'origin': frozenset({'family'})}), frozendict.frozendict({'input_file': 'd7e9711760a.c', 'type': 'dead_store', 'classification': frozenset({'TRUE', 'NEW'}), 'line_number': 30, 'origin': frozenset({'family'})}), frozendict.frozendict({'input_file': '1f758a4341a.c', 'type': 'control_flow', 'classification': frozenset({'TRUE', 'NEW'}), 'line_number': 32, 'origin': frozenset({'family'})}), frozendict.frozendict({'input_file': '242f1a34377.c', 'type': 'control_flow', 'classification': frozenset({'OVER', 'TRUE', 'NEW'}), 'line_number': 18, 'origin': frozenset({'family'})}), frozendict.frozendict({'input_file': '36855dcfc98.c', 'type': 'dead_store', 'classification': frozenset({'TRUE', 'NEW'}), 'line_number': 6, 'origin': frozenset({'family'})}), frozendict.frozendict({'input_file': '66517915e09.c', 'type': 'dead_store', 'classification': frozenset({'TRUE', 'NEW'}), 'line_number': 24, 'origin': frozenset({'family'})}), frozendict.frozendict({'input_file': '472a474c663.c', 'type': 'uninitialized_value', 'classification': frozenset({'FALSE'}), 'line_number': 12, 'origin': frozenset({'family'})}), frozendict.frozendict({'input_file': 'c76df14dfb4.c', 'type': 'dead_store', 'classification': frozenset({'TRUE', 'NEW'}), 'line_number': 42, 'origin': frozenset({'family'})}), frozendict.frozendict({'input_file': '1c17e4d4437.c', 'type': 'uninitialized_value', 'classification': frozenset({'UNDER', 'TRUE'}), 'line_number': 24, 'origin': frozenset({'family'})}), frozendict.frozendict({'input_file': '1c17e4d4437.c', 'type': 'uninitialized_value', 'classification': frozenset({'TRUE', 'NEW'}), 'line_number': 23, 'origin': frozenset({'family'})}), frozendict.frozendict({'input_file': '8c4377dd635.c', 'type': 'dead_store', 'classification': frozenset({'TRUE', 'NEW'}), 'line_number': 3, 'origin': frozenset({'family'})}), frozendict.frozendict({'input_file': 'a7fc1f83c81.c', 'type': 'uninitialized_value', 'classification': frozenset({'FALSE'}), 'line_number': 23, 'origin': frozenset({'family'})}), frozendict.frozendict({'input_file': '472a474c663.c', 'type': 'control_flow', 'classification': frozenset({'UNDER', 'TRUE', 'NEW'}), 'line_number': 21, 'origin': frozenset({'family'})}), frozendict.frozendict({'input_file': '7acf6cd80b2.c', 'type': 'uninitialized_value', 'classification': frozenset({'TRUE', 'NEW'}), 'line_number': 44, 'origin': frozenset({'family'})}), frozendict.frozendict({'input_file': 'b273d665181.c', 'type': 'dead_store', 'classification': frozenset({'TRUE', 'NEW'}), 'line_number': 11, 'origin': frozenset({'family'})}), frozendict.frozendict({'input_file': 'd7e9711760a.c', 'type': 'dead_store', 'classification': frozenset({'TRUE', 'NEW'}), 'line_number': 20, 'origin': frozenset({'family'})}), frozendict.frozendict({'input_file': 'a7fc1f83c81.c', 'type': 'uninitialized_value', 'classification': frozenset({'FALSE'}), 'line_number': 20, 'origin': frozenset({'family'})}), frozendict.frozendict({'input_file': '061fd0a353e.c', 'type': 'case_not_terminated', 'classification': frozenset({'TRUE', 'NEW'}), 'line_number': 26, 'origin': frozenset({'family'})}), frozendict.frozendict({'input_file': 'b62bd7b261b.c', 'type': 'uninitialized_value', 'classification': frozenset({'FALSE'}), 'line_number': 31, 'origin': frozenset({'family'})}), frozendict.frozendict({'input_file': '0f8f8094d28.c', 'type': 'control_flow', 'classification': frozenset({'TRUE', 'NEW'}), 'line_number': 45, 'origin': frozenset({'family'})}), frozendict.frozendict({'input_file': 'f3d83e24154.c', 'type': 'uninitialized_value', 'classification': frozenset({'TRUE', 'NEW'}), 'line_number': 10, 'origin': frozenset({'family'})}), frozendict.frozendict({'input_file': '199501f2a00.c', 'type': 'uninitialized_value', 'classification': frozenset({'FALSE'}), 'line_number': 19, 'origin': frozenset({'family'})}), frozendict.frozendict({'input_file': 'dbafef17dd1.c', 'type': 'uninitialized_value', 'classification': frozenset({'FALSE'}), 'line_number': 11, 'origin': frozenset({'family'})}), frozendict.frozendict({'input_file': '6252547b8a7.c', 'type': 'control_flow', 'classification': frozenset({'TRUE', 'NEW'}), 'line_number': 25, 'origin': frozenset({'family'})}), frozendict.frozendict({'input_file': '66517915e09.c', 'type': 'dead_store', 'classification': frozenset({'TRUE', 'NEW'}), 'line_number': 16, 'origin': frozenset({'family'})}), frozendict.frozendict({'input_file': 'a7fc1f83c81.c', 'type': 'uninitialized_value', 'classification': frozenset({'FALSE'}), 'line_number': 21, 'origin': frozenset({'family'})}), frozendict.frozendict({'input_file': '1a3c8e3d840.c', 'type': 'dead_store', 'classification': frozenset({'TRUE', 'NEW'}), 'line_number': 13, 'origin': frozenset({'family'})}), frozendict.frozendict({'input_file': '242f1a34377.c', 'type': 'control_flow', 'classification': frozenset({'TRUE', 'NEW'}), 'line_number': 15, 'origin': frozenset({'family'})}), frozendict.frozendict({'input_file': '7acf6cd80b2.c', 'type': 'dead_store', 'classification': frozenset({'TRUE', 'NEW'}), 'line_number': 39, 'origin': frozenset({'family'})}), frozendict.frozendict({'input_file': '0f8f8094d28.c', 'type': 'dead_store', 'classification': frozenset({'UNDER', 'TRUE', 'NEW'}), 'line_number': 41, 'origin': frozenset({'family'})}), frozendict.frozendict({'input_file': 'b273d665181.c', 'type': 'uninitialized_value', 'classification': frozenset({'TRUE'}), 'line_number': 16, 'origin': frozenset({'family'})}), frozendict.frozendict({'input_file': 'eef2317b9f5.c', 'type': 'uninitialized_value', 'classification': frozenset({'TRUE', 'NEW'}), 'line_number': 30, 'origin': frozenset({'family'})}), frozendict.frozendict({'input_file': 'f3d83e24154.c', 'type': 'uninitialized_value', 'classification': frozenset({'FALSE'}), 'line_number': 11, 'origin': frozenset({'family'})}), frozendict.frozendict({'input_file': '8c4377dd635.c', 'type': 'dead_store', 'classification': frozenset({'TRUE', 'NEW'}), 'line_number': 12, 'origin': frozenset({'family'})}), frozendict.frozendict({'input_file': '5275b1e49f6.c', 'type': 'dead_store', 'classification': frozenset({'TRUE', 'NEW'}), 'line_number': 16, 'origin': frozenset({'family'})}), frozendict.frozendict({'input_file': '6515e48932c.c', 'type': 'control_flow', 'classification': frozenset({'OVER', 'TRUE', 'NEW'}), 'line_number': 15, 'origin': frozenset({'family'})}), frozendict.frozendict({'input_file': '1b48bb3c1af.c', 'type': 'uninitialized_value', 'classification': frozenset({'TRUE'}), 'line_number': 14, 'origin': frozenset({'family'})}), frozendict.frozendict({'input_file': '1f758a4341a.c', 'type': 'control_flow', 'classification': frozenset({'TRUE', 'NEW'}), 'line_number': 38, 'origin': frozenset({'family'})}), frozendict.frozendict({'input_file': 'a7fc1f83c81.c', 'type': 'uninitialized_value', 'classification': frozenset({'FALSE'}), 'line_number': 22, 'origin': frozenset({'family'})}), frozendict.frozendict({'input_file': '061fd0a353e.c', 'type': 'uninitialized_value', 'classification': frozenset({'TRUE', 'NEW'}), 'line_number': 27, 'origin': frozenset({'family'})}), frozendict.frozendict({'input_file': '6e2b75740be.c', 'type': 'static_free', 'classification': frozenset({'FALSE'}), 'line_number': 60, 'origin': frozenset({'family'})}), frozendict.frozendict({'input_file': 'eef2317b9f5.c', 'type': 'static_free', 'classification': frozenset({'TRUE'}), 'line_number': 31, 'origin': frozenset({'family'})}), frozendict.frozendict({'input_file': '95755181b82.c', 'type': 'dead_store', 'classification': frozenset({'UNDER', 'TRUE', 'NEW'}), 'line_number': 36, 'origin': frozenset({'family'})}), frozendict.frozendict({'input_file': '5275b1e49f6.c', 'type': 'dead_store', 'classification': frozenset({'TRUE', 'NEW'}), 'line_number': 21, 'origin': frozenset({'family'})}), frozendict.frozendict({'input_file': 'e30bfedce4d.c', 'type': 'dead_store', 'classification': frozenset({'TRUE', 'NEW'}), 'line_number': 24, 'origin': frozenset({'family'})}), frozendict.frozendict({'input_file': 'eef2317b9f5.c', 'type': 'uninitialized_value', 'classification': frozenset({'TRUE'}), 'line_number': 31, 'origin': frozenset({'family'})}), frozendict.frozendict({'input_file': '35ae2e259e4.c', 'type': 'dead_store', 'classification': frozenset({'UNDER', 'TRUE', 'NEW'}), 'line_number': 10, 'origin': frozenset({'family'})}), frozendict.frozendict({'input_file': 'eef2317b9f5.c', 'type': 'dead_store', 'classification': frozenset({'TRUE', 'NEW'}), 'line_number': 26, 'origin': frozenset({'family'})}), frozendict.frozendict({'input_file': '1a3c8e3d840.c', 'type': 'dead_store', 'classification': frozenset({'FALSE'}), 'line_number': 13, 'origin': frozenset({'family'})}), frozendict.frozendict({'input_file': '581635e28f1.c', 'type': 'control_flow', 'classification': frozenset({'UNDER', 'TRUE', 'NEW'}), 'line_number': 7, 'origin': frozenset({'family'})}), frozendict.frozendict({'input_file': '581635e28f1.c', 'type': 'dead_store', 'classification': frozenset({'UNDER', 'TRUE', 'NEW'}), 'line_number': 7, 'origin': frozenset({'family'})}), frozendict.frozendict({'input_file': '192c35f6eb2.c', 'type': 'uninitialized_value', 'classification': frozenset({'FALSE'}), 'line_number': 12, 'origin': frozenset({'family'})}), frozendict.frozendict({'input_file': '664e3aac6dd.c', 'type': 'uninitialized_value', 'classification': frozenset({'FALSE'}), 'line_number': 11, 'origin': frozenset({'family'})}), frozendict.frozendict({'input_file': 'eb91f1d0a53.c', 'type': 'control_flow', 'classification': frozenset({'TRUE', 'NEW'}), 'line_number': 92, 'origin': frozenset({'family'})}), frozendict.frozendict({'input_file': '199501f2a00.c', 'type': 'uninitialized_value', 'classification': frozenset({'FALSE'}), 'line_number': 21, 'origin': frozenset({'family'})}), frozendict.frozendict({'input_file': '6e2b75740be.c', 'type': 'double_free', 'classification': frozenset({'TRUE'}), 'line_number': 63, 'origin': frozenset({'family'})}), frozendict.frozendict({'input_file': 'c76df14dfb4.c', 'type': 'dead_store', 'classification': frozenset({'TRUE', 'NEW'}), 'line_number': 38, 'origin': frozenset({'family'})}), frozendict.frozendict({'input_file': '0301ffab3d9.c', 'type': 'dead_store', 'classification': frozenset({'FALSE'}), 'line_number': 4, 'origin': frozenset({'family'})}), frozendict.frozendict({'input_file': '061fd0a353e.c', 'type': 'uninitialized_value', 'classification': frozenset({'TRUE', 'NEW'}), 'line_number': 20, 'origin': frozenset({'family'})}), frozendict.frozendict({'input_file': '5275b1e49f6.c', 'type': 'dead_store', 'classification': frozenset({'UNDER', 'TRUE', 'NEW'}), 'line_number': 25, 'origin': frozenset({'family'})}), frozendict.frozendict({'input_file': '6252547b8a7.c', 'type': 'dead_store', 'classification': frozenset({'TRUE', 'NEW'}), 'line_number': 12, 'origin': frozenset({'family'})}), frozendict.frozendict({'input_file': '30e053248da.c', 'type': 'dead_store', 'classification': frozenset({'TRUE', 'NEW'}), 'line_number': 31, 'origin': frozenset({'family'})}), frozendict.frozendict({'input_file': '6e2b75740be.c', 'type': 'static_free', 'classification': frozenset({'FALSE'}), 'line_number': 67, 'origin': frozenset({'family'})}), frozendict.frozendict({'input_file': '76baeebf7df.c', 'type': 'cast_to_pointer', 'classification': frozenset({'TRUE', 'NEW'}), 'line_number': 45, 'origin': frozenset({'family'})}), frozendict.frozendict({'input_file': '76baeebf7df.c', 'type': 'cast_to_pointer', 'classification': frozenset({'TRUE', 'NEW'}), 'line_number': 41, 'origin': frozenset({'family'})}), frozendict.frozendict({'input_file': '472a474c663.c', 'type': 'dead_store', 'classification': frozenset({'UNDER', 'TRUE', 'NEW'}), 'line_number': 16, 'origin': frozenset({'family'})}), frozendict.frozendict({'input_file': '5275b1e49f6.c', 'type': 'dead_store', 'classification': frozenset({'TRUE', 'NEW'}), 'line_number': 18, 'origin': frozenset({'family'})}), frozendict.frozendict({'input_file': '6515e48932c.c', 'type': 'control_flow', 'classification': frozenset({'OVER', 'TRUE', 'NEW'}), 'line_number': 18, 'origin': frozenset({'family'})}), frozendict.frozendict({'input_file': '7acf6cd80b2.c', 'type': 'dead_store', 'classification': frozenset({'UNDER', 'TRUE', 'NEW'}), 'line_number': 8, 'origin': frozenset({'family'})}), frozendict.frozendict({'input_file': '6e2b75740be.c', 'type': 'static_free', 'classification': frozenset({'TRUE'}), 'line_number': 63, 'origin': frozenset({'family'})}), frozendict.frozendict({'input_file': '061fd0a353e.c', 'type': 'case_not_terminated', 'classification': frozenset({'TRUE', 'NEW'}), 'line_number': 19, 'origin': frozenset({'family'})}), frozendict.frozendict({'input_file': 'e39363a9def.c', 'type': 'uninitialized_value', 'classification': frozenset({'TRUE'}), 'line_number': 17, 'origin': frozenset({'family'})}), frozendict.frozendict({'input_file': 'b62bd7b261b.c', 'type': 'uninitialized_value', 'classification': frozenset({'FALSE'}), 'line_number': 28, 'origin': frozenset({'family'})})}\n",
      "found a match\n",
      "found a match\n",
      "found a match\n",
      "found a match\n",
      "found a match\n",
      "found a match\n",
      "found a match\n",
      "found a match\n",
      "found a match\n",
      "found a match\n"
     ]
    },
    {
     "data": {
      "text/plain": [
       "<Figure size 640x480 with 1 Axes>"
      ],
      "image/png": "[encoded data removed]"
     },
     "metadata": {},
     "output_type": "display_data"
    }
   ],
   "execution_count": 7
  },
  {
   "metadata": {
    "collapsed": true,
    "ExecuteTime": {
     "end_time": "2025-05-27T01:24:49.370774Z",
     "start_time": "2025-05-27T01:24:49.365407Z"
    }
   },
   "cell_type": "code",
   "source": [
    "print(f\"Number of unique summaries: {len(unique_summaries)}\")\n",
    "print([a.get(\"origin\") for a in unique_summaries if len(a.get(\"origin\")) > 1])\n",
    "new_tp = [a for a in all_summaries if \"TRUE\" in a['classification'] and \"NEW\" in a['classification']]\n",
    "old_tp = [a for a in all_summaries if \"TRUE\" in a['classification'] and \"NEW\" not in a['classification']]\n",
    "print(f\"Total classifications: {len(all_summaries)}\")\n",
    "print(f\"New tp: {len(new_tp)}\")\n",
    "print(f\"Old tp: {len(old_tp)}\")\n",
    "all_tp = 97 + len(new_tp)\n",
    "\n",
    "# Individual Precision and Recall\n",
    "for origin in ['product', 'family', 'transformation']:\n",
    "    tp = [a for a in all_results if 'TRUE' in a['classification'] and a['origin'] == origin]\n",
    "    fp = [a for a in all_results if 'FALSE' in a['classification'] and a['origin'] == origin]\n",
    "    precision = len(tp) / len([a for a in all_results if a['origin'] == origin])\n",
    "    recall = len(tp) / all_tp\n",
    "    print(f\"Precision of {origin}: {precision}\")\n",
    "    print(f\"Recall of {origin}: {recall}\")"
   ],
   "id": "initial_id",
   "outputs": [
    {
     "name": "stdout",
     "output_type": "stream",
     "text": [
      "Number of unique summaries: 36\n",
      "[]\n",
      "Total classifications: 345\n",
      "New tp: 156\n",
      "Old tp: 63\n",
      "Precision of product: 0.7972972972972973\n",
      "Recall of product: 0.233201581027668\n",
      "Precision of family: 0.7532467532467533\n",
      "Recall of family: 0.22924901185770752\n",
      "Precision of transformation: 0.4700854700854701\n",
      "Recall of transformation: 0.43478260869565216\n"
     ]
    }
   ],
   "execution_count": 62
  },
  {
   "metadata": {},
   "cell_type": "code",
   "outputs": [],
   "execution_count": null,
   "source": "",
   "id": "828edd5ce9bba34"
  }
 ],
 "metadata": {
  "kernelspec": {
   "display_name": "Python 3",
   "language": "python",
   "name": "python3"
  },
  "language_info": {
   "codemirror_mode": {
    "name": "ipython",
    "version": 2
   },
   "file_extension": ".py",
   "mimetype": "text/x-python",
   "name": "python",
   "nbconvert_exporter": "python",
   "pygments_lexer": "ipython2",
   "version": "2.7.6"
  }
 },
 "nbformat": 4,
 "nbformat_minor": 5
}
